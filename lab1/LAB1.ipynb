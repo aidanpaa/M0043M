{
 "cells": [
  {
   "cell_type": "markdown",
   "metadata": {},
   "source": [
    "### Generating some vectors"
   ]
  },
  {
   "cell_type": "code",
   "execution_count": 8,
   "metadata": {
    "collapsed": false
   },
   "outputs": [
    {
     "name": "stdout",
     "output_type": "stream",
     "text": [
      "[1 2 3 4 5 6 7 8 9]\n",
      "Hej Mattias!\n"
     ]
    }
   ],
   "source": [
    "from pylab import *\n",
    "from numpy import *\n",
    "\n",
    "v1 = arange(1, 10, 1)\n",
    "\n",
    "# Linspace\n",
    "\n",
    "v2 = linspace(0, 5, 39)\n",
    "print v1\n",
    "\n",
    "print \"Hej Mattias!\"\n",
    "\n"
   ]
  },
  {
   "cell_type": "code",
   "execution_count": 11,
   "metadata": {
    "collapsed": false
   },
   "outputs": [
    {
     "name": "stdout",
     "output_type": "stream",
     "text": [
      "[-1  0  2] [-3  0  6] [1 2 4]\n"
     ]
    }
   ],
   "source": [
    "a = array([-1, 0, 2])\n",
    "b = 3 * a\n",
    "c = a + 2\n",
    "\n",
    "print a, b, c"
   ]
  },
  {
   "cell_type": "code",
   "execution_count": 19,
   "metadata": {
    "collapsed": false
   },
   "outputs": [
    {
     "name": "stdout",
     "output_type": "stream",
     "text": [
      "a + b:  [ 1.  4.  6.]\n",
      "a * b:  [-2.  3.  8.]\n",
      "a / b:  [-2.  3.  2.]\n",
      "b**2:   [ 1.  1.  4.]\n"
     ]
    }
   ],
   "source": [
    "a = array([2.0, 3.0, 4.0])\n",
    "b = array([-1.0, 1.0, 2.0])\n",
    "\n",
    "c = a + b\n",
    "d = a * b\n",
    "e = a / b\n",
    "f = b**2\n",
    "print \"a + b: \", c\n",
    "print \"a * b: \" , d\n",
    "print \"a / b: \" , e\n",
    "print \"b**2:  \" , f"
   ]
  },
  {
   "cell_type": "markdown",
   "metadata": {},
   "source": [
    "### Scalar and vector product"
   ]
  },
  {
   "cell_type": "code",
   "execution_count": 23,
   "metadata": {
    "collapsed": false
   },
   "outputs": [
    {
     "name": "stdout",
     "output_type": "stream",
     "text": [
      "9.0\n",
      "5.38516480713\n",
      "[ 2. -8.  5.]\n"
     ]
    }
   ],
   "source": [
    "ip = dot(a, b)\n",
    "print ip\n",
    "\n",
    "v_length = norm(a)\n",
    "print v_length\n",
    "\n",
    "cross_product = cross(a, b)\n",
    "print cross_product\n",
    "\n"
   ]
  },
  {
   "cell_type": "markdown",
   "metadata": {},
   "source": [
    "##### SCALAR PRODUCT\n",
    "\n",
    "$$\\mathbf{a} \\cdot \\mathbf{b} = \\sum_{i=1}^n a_i b_i = a_1 b_1 + a_2 b_2 + \\dots + a_n b_n$$"
   ]
  },
  {
   "cell_type": "markdown",
   "metadata": {},
   "source": [
    "https://en.wikipedia.org/wiki/File:Right_hand_rule_cross_product.svg\n",
    "\n",
    "https://en.wikipedia.org/wiki/File:Sarrus_rule_cross_product.svg"
   ]
  },
  {
   "cell_type": "code",
   "execution_count": 25,
   "metadata": {
    "collapsed": false
   },
   "outputs": [
    {
     "name": "stdout",
     "output_type": "stream",
     "text": [
      "[ 10.55172414  15.82758621  21.10344828]\n"
     ]
    }
   ],
   "source": [
    "e = a / norm(e)\n",
    "\n",
    "tproj = dot(b, e) * e\n",
    "print tproj"
   ]
  },
  {
   "cell_type": "code",
   "execution_count": 26,
   "metadata": {
    "collapsed": false
   },
   "outputs": [
    {
     "name": "stdout",
     "output_type": "stream",
     "text": [
      "[ 1.          1.73205081  2.23606798  9.94987437  9.        ]\n"
     ]
    }
   ],
   "source": [
    "y = [1, 3, 5, 99, 81]\n",
    "print sqrt(y)"
   ]
  },
  {
   "cell_type": "code",
   "execution_count": 41,
   "metadata": {
    "collapsed": false
   },
   "outputs": [],
   "source": [
    "from pylab import * # Vi importerar allt fran pylab-modulen >>> X = linspace(-pi, pi, 300\n",
    "\n",
    "X = linspace(-pi, pi, 300)\n",
    "C, S = cos(X), sin(X)\n",
    "plot(X, C, color=\"blue\", linewidth=2.5, linestyle=\"-\", label=\"cosinus\")\n",
    "plot(X, S, color=\"red\", linewidth=2.5, linestyle=\"-\", label=\"sinus\")\n",
    "legend(loc=\"upper left\")\n",
    "axis\n",
    "xlabel(\"x\")\n",
    "ylabel(\"y\")\n",
    "title(\"Sinus\")\n",
    "show()"
   ]
  },
  {
   "cell_type": "markdown",
   "metadata": {},
   "source": [
    "## Uppgift 1"
   ]
  },
  {
   "cell_type": "code",
   "execution_count": 84,
   "metadata": {
    "collapsed": false
   },
   "outputs": [
    {
     "name": "stdout",
     "output_type": "stream",
     "text": [
      "-0.422222222222\n"
     ]
    }
   ],
   "source": [
    "def f(x):\n",
    "    return cos(x)\n",
    "\n",
    "#print \"f-test 1: \", f(pi/3)\n",
    "\n",
    "def p2(x):\n",
    "    return 1 - (x**2)/2\n",
    "\n",
    "#print \"p2(2) should equal -1 : \", p2(2)\n",
    "#print \"p2(1) should equal 0.5 : \", p2(1.0)\n",
    "\n",
    "\n",
    "\n",
    "def p4(x):\n",
    "    return p2(x) + (x**4)/24\n",
    "\n",
    "#print \"p4test 1: \", p4(1.0)\n",
    "#print \"p4test 1: \", p4(2.0)\n",
    "\n",
    "#FUNKAR FINT above this line\n",
    "\n",
    "def p6(x):\n",
    "    return p4(x) - (x**6)/720\n",
    "\n",
    "print p6(2.0)\n",
    "\n",
    "# REGRESSION TESTING COMPLETED\n",
    "\n",
    "\n",
    "# Intervall:  −2π ≤ x ≤ 2π."
   ]
  },
  {
   "cell_type": "code",
   "execution_count": null,
   "metadata": {
    "collapsed": true
   },
   "outputs": [],
   "source": []
  }
 ],
 "metadata": {
  "kernelspec": {
   "display_name": "Python 2",
   "language": "python",
   "name": "python2"
  },
  "language_info": {
   "codemirror_mode": {
    "name": "ipython",
    "version": 2
   },
   "file_extension": ".py",
   "mimetype": "text/x-python",
   "name": "python",
   "nbconvert_exporter": "python",
   "pygments_lexer": "ipython2",
   "version": "2.7.10"
  }
 },
 "nbformat": 4,
 "nbformat_minor": 0
}
